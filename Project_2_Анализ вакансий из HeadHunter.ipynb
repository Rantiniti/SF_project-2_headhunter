{
  "cells": [
    {
      "cell_type": "markdown",
      "id": "42289889-bd57-434e-9637-d3e354756316",
      "metadata": {
        "id": "42289889-bd57-434e-9637-d3e354756316"
      },
      "source": [
        "<center> <img src = https://raw.githubusercontent.com/AndreyRysistov/DatasetsForPandas/main/hh%20label.jpg alt=\"drawing\" style=\"width:400px;\">"
      ]
    },
    {
      "cell_type": "markdown",
      "id": "829cb75b-f14e-4ba8-9195-7ba929a7d656",
      "metadata": {
        "id": "829cb75b-f14e-4ba8-9195-7ba929a7d656",
        "tags": []
      },
      "source": [
        "# <center> Проект: Анализ вакансий из HeadHunter\n",
        "   "
      ]
    },
    {
      "cell_type": "code",
      "execution_count": 1,
      "id": "dccfde33-2452-43fb-a8a5-5c6ebc02a71d",
      "metadata": {
        "id": "dccfde33-2452-43fb-a8a5-5c6ebc02a71d"
      },
      "outputs": [],
      "source": [
        "import pandas as pd\n",
        "import psycopg2\n",
        "from sqlalchemy import create_engine\n",
        "from sqlalchemy.sql import text\n",
        "import requests\n",
        "import json\n",
        "from bs4 import BeautifulSoup\n",
        "import seaborn as sns\n",
        "import matplotlib.pyplot as plt"
      ]
    },
    {
      "cell_type": "code",
      "execution_count": 167,
      "id": "0b420a27",
      "metadata": {},
      "outputs": [
        {
          "name": "stdout",
          "output_type": "stream",
          "text": [
            "Данные для подключения получены.\n"
          ]
        }
      ],
      "source": [
        "filename = 'linkdata.json'\n",
        "# Получаем данные для конекта из json-файла, который добавлен в .gitignore\n",
        "try:\n",
        "    with open(filename) as f:\n",
        "        link_data = json.load(f)\n",
        "        \n",
        "    DBNAME = link_data[0][\"dbname\"]\n",
        "    USER = link_data[0][\"user\"]\n",
        "    PASSWORD = link_data[0][\"password\"]\n",
        "    HOST = link_data[0][\"host\"]\n",
        "    PORT = link_data[0][\"port\"]\n",
        "except FileNotFoundError:\n",
        "    print(f\"Sorry, the file {filename} does not exist.\")\n",
        "else:\n",
        "    print(\"Данные для подключения получены.\")"
      ]
    },
    {
      "cell_type": "code",
      "execution_count": 169,
      "id": "fa8df4b4",
      "metadata": {},
      "outputs": [],
      "source": [
        "# Установка коннекта \n",
        "cs = f'postgresql+psycopg2://{USER}:{PASSWORD}@{HOST}:{PORT}/{DBNAME}'\n",
        "engine = create_engine(cs)\n",
        "\n",
        "# Функция для запуска запроса qtext\n",
        "def queryExec(qtext):\n",
        "    '''\n",
        "    Функция запускает исполнение запроса, текст которого получаем через параметр qtext\n",
        "    Результат возвращаем в виде dataframe. \n",
        "    Arguments:\n",
        "        qtext [str]: текст запроса\n",
        "    Returns:\n",
        "        [DataFrame]: результирующий dataframe\n",
        "    '''\n",
        "    with engine.connect().execution_options(autocommit=True) as conn:\n",
        "        return pd.read_sql_query(text(qtext), con=conn)"
      ]
    },
    {
      "cell_type": "markdown",
      "id": "0dc6476b-7a00-44f1-ac93-6e3baed33a29",
      "metadata": {
        "id": "0dc6476b-7a00-44f1-ac93-6e3baed33a29"
      },
      "source": [
        "# Юнит 3. Предварительный анализ данных"
      ]
    },
    {
      "cell_type": "markdown",
      "id": "889782b6-8d1c-410e-8920-e57f27917c64",
      "metadata": {
        "id": "889782b6-8d1c-410e-8920-e57f27917c64"
      },
      "source": [
        "1. Напишите запрос, который посчитает количество вакансий в нашей базе (вакансии находятся в таблице vacancies). "
      ]
    },
    {
      "cell_type": "code",
      "execution_count": 131,
      "id": "bc39e68e-ed02-4ee2-9235-7258a2f867a8",
      "metadata": {
        "id": "bc39e68e-ed02-4ee2-9235-7258a2f867a8"
      },
      "outputs": [],
      "source": [
        "# текст запроса\n",
        "query_3_1 = f'''\n",
        "select \n",
        "    count(*) cnt\n",
        "from \n",
        "    public.vacancies\n",
        "'''"
      ]
    },
    {
      "cell_type": "code",
      "execution_count": 132,
      "id": "7mAwtsk4hEHY",
      "metadata": {
        "id": "7mAwtsk4hEHY"
      },
      "outputs": [
        {
          "data": {
            "text/plain": [
              "'Количество вакансий в базе: 49197'"
            ]
          },
          "metadata": {},
          "output_type": "display_data"
        }
      ],
      "source": [
        "# результат запроса\n",
        "count_vacancies = queryExec(query_3_1)\n",
        "display(f\"Количество вакансий в базе: {count_vacancies['cnt'].iloc[0]}\")"
      ]
    },
    {
      "cell_type": "markdown",
      "id": "b583485d-1f9e-494e-ada4-80ffff7c53d6",
      "metadata": {
        "id": "b583485d-1f9e-494e-ada4-80ffff7c53d6"
      },
      "source": [
        "2. Напишите запрос, который посчитает количество работодателей (таблица employers). "
      ]
    },
    {
      "cell_type": "code",
      "execution_count": 81,
      "id": "5408c52c-3407-4a63-b25b-1aafa2322d28",
      "metadata": {
        "id": "5408c52c-3407-4a63-b25b-1aafa2322d28"
      },
      "outputs": [],
      "source": [
        "# текст запроса\n",
        "query_3_2 = f'''\n",
        "select \n",
        "    count(*) cnt\n",
        "from \n",
        "    public.employers\n",
        "'''"
      ]
    },
    {
      "cell_type": "code",
      "execution_count": 82,
      "id": "jVL4eshKhdqc",
      "metadata": {
        "id": "jVL4eshKhdqc"
      },
      "outputs": [
        {
          "data": {
            "text/plain": [
              "'Количество работодателей в базе: 23501'"
            ]
          },
          "metadata": {},
          "output_type": "display_data"
        }
      ],
      "source": [
        "# результат запроса\n",
        "count_employers = queryExec(query_3_2)\n",
        "display(f\"Количество работодателей в базе: {count_employers['cnt'].iloc[0]}\")"
      ]
    },
    {
      "cell_type": "markdown",
      "id": "a2bfff1f-c975-4bf6-84be-2185d79dcb76",
      "metadata": {
        "id": "a2bfff1f-c975-4bf6-84be-2185d79dcb76"
      },
      "source": [
        "3. Посчитате с помощью запроса количество регионов (таблица areas)."
      ]
    },
    {
      "cell_type": "code",
      "execution_count": 83,
      "id": "1m8QJwBYhey6",
      "metadata": {
        "id": "1m8QJwBYhey6"
      },
      "outputs": [],
      "source": [
        "# текст запроса\n",
        "query_3_3 = f'''\n",
        "select \n",
        "    count(*) cnt\n",
        "from \n",
        "    public.areas\n",
        "'''"
      ]
    },
    {
      "cell_type": "code",
      "execution_count": 84,
      "id": "EZsn9tlfhe7f",
      "metadata": {
        "id": "EZsn9tlfhe7f"
      },
      "outputs": [
        {
          "data": {
            "text/plain": [
              "'Количество регионов в базе: 1362'"
            ]
          },
          "metadata": {},
          "output_type": "display_data"
        }
      ],
      "source": [
        "# результат запроса\n",
        "count_areas = queryExec(query_3_3)\n",
        "display(f\"Количество регионов в базе: {count_areas['cnt'].iloc[0]}\")"
      ]
    },
    {
      "cell_type": "markdown",
      "id": "41bb59f3-53cc-4a67-a5bc-bedf573955e4",
      "metadata": {
        "id": "41bb59f3-53cc-4a67-a5bc-bedf573955e4"
      },
      "source": [
        "4. Посчитате с помощью запроса количество сфер деятельности в базе (таблица industries)."
      ]
    },
    {
      "cell_type": "code",
      "execution_count": 85,
      "id": "d286cf4c-707b-4cd2-9190-7ab3587d04a1",
      "metadata": {
        "id": "d286cf4c-707b-4cd2-9190-7ab3587d04a1"
      },
      "outputs": [],
      "source": [
        "# текст запроса\n",
        "query_3_4 = f'''\n",
        "select\n",
        "    count(*) cnt\n",
        "from \n",
        "    public.industries\n",
        "'''"
      ]
    },
    {
      "cell_type": "code",
      "execution_count": 86,
      "id": "JYAaoZ4qhfzW",
      "metadata": {
        "id": "JYAaoZ4qhfzW"
      },
      "outputs": [
        {
          "data": {
            "text/plain": [
              "'Количество сфер дейтельности в базе: 294'"
            ]
          },
          "metadata": {},
          "output_type": "display_data"
        }
      ],
      "source": [
        "# результат запроса\n",
        "count_industries = queryExec(query_3_4)\n",
        "display(f\"Количество сфер дейтельности в базе: {count_industries['cnt'].iloc[0]}\")"
      ]
    },
    {
      "cell_type": "markdown",
      "id": "9a8a2181-6914-448b-85f1-38f5f18b8a93",
      "metadata": {
        "id": "9a8a2181-6914-448b-85f1-38f5f18b8a93"
      },
      "source": [
        "***"
      ]
    },
    {
      "attachments": {},
      "cell_type": "markdown",
      "id": "be4e9bd3-a4db-4a20-82fb-6b02fc2957e0",
      "metadata": {
        "id": "be4e9bd3-a4db-4a20-82fb-6b02fc2957e0"
      },
      "source": [
        "### <span style=\"color:magenta\">Выводы по предварительному анализу данных: </span>\n",
        "\n",
        "* В базе данных project_sql представлено 49 197 вакансий, вместе с тем, на портале HeadHunter заявлено всего 1 062 277 вакансий (на 18.03.2023 г.). Таким образом, в базе выборка менее 5% всех вакансий.\n",
        "* Из 1 886 593 работодателей, размещающихся на hh.ru только 23 501 работодателя представлено в базе проекта. Из них у 8 400 не указана область деятельности, приблизительно одна треть организаций в базе. Во многих организациях, скорее всего, со сложной струтурой требуются сотрудники нескольких сфер деятельности. В 1 266 предприятий имеют отношение к 5 позициям из таблицы специальностей (отрослей). Т.о. в базе проекта только незначительная часть 1,3% от количества тех организаций, что заявлено hh.ru как участники рынка труда.\n",
        "* Количество сфер деятельности (отраслей) в таблице industries равно 294. Причем к it имеют отношение около 80% всех вакансий из базы данных проекта. В общероссийской статистике около 15% всех вакансий относится к розничной торговле, в данной же базе всего около 3% вакансий относится к данной сфере деятельности. Т.о. можно сделать вывод, что данные проекта-2 не соответствуют реальным данным рынка труда. Один из доводов такого искажения будет приведен ниже в обобщающем выводе.\n",
        "* Количество территориальных участков в проектной базе 1362. Здесь стоит отметить, что среди городов (приблизительно 1117 в России по данным Википедии, из них точное совпадание найдено для 706 городов), в таблице areas встречаются и населенные пункты статуса поселение. В данных присуствуют населенные пункты за пределами России. В следствие, отсутствия признака вхождения в государственные границы стран, затруднительно оценить количество таких территорий.\n",
        "\n",
        "    В каждой вакансии указывается регион (населенный пункт), где требуются привлечь соискателей. В то же время каждый работодатель имеет привязку к региону(нам) или даже к странам. Для больших компаний, имеющих представительства или филиалы в различных регионах России указано обобщающее значение \"Россия\" - 410 организаций, впрочем возможно данное допущение позволяет просто не указывать более точное географическое нахождение. Из дальнего зарубежья есть работодатели из США (61), Кипр (35), Великобритания (23)\n",
        "\n"
      ]
    },
    {
      "cell_type": "code",
      "execution_count": 4,
      "id": "0e03a937",
      "metadata": {},
      "outputs": [
        {
          "data": {
            "image/png": "[encoded data removed]",
            "text/plain": [
              "<Figure size 640x480 with 1 Axes>"
            ]
          },
          "metadata": {},
          "output_type": "display_data"
        }
      ],
      "source": [
        "# Отсортированная по убыванию выборка количества вакансий по сферам деятельности\n",
        "query_bonus_1 = f'''\n",
        "select \n",
        "    i.name,\n",
        "    count(v.*) cnt \n",
        "from \n",
        "    industries i \n",
        "join \n",
        "    employers_industries ei on ei.industry_id = i.id \n",
        "join \n",
        "    vacancies v on v.employer_id = ei.employer_id\n",
        "group by \n",
        "    i.id\n",
        "order by \n",
        "    cnt desc \n",
        "limit 10\n",
        "'''\n",
        "\n",
        "df_industries = queryExec(query_bonus_1)\n",
        "# Получаем датасет для круговой диаграммы\n",
        "\n",
        "fig = plt.figure()\n",
        "plt.pie(df_industries['cnt'], \n",
        "        labels=df_industries['name'].apply(lambda x: x.split(',')[0]),\n",
        "        explode = [0.1, 0.07, 0.04, 0, 0, 0, 0, 0, 0, 0], \n",
        "        autopct='%.0f%%')\n",
        "plt.title(\"Вакансии по сферам деятельности\", fontsize=14)\n",
        "plt.show()"
      ]
    },
    {
      "attachments": {},
      "cell_type": "markdown",
      "id": "20c377d1",
      "metadata": {},
      "source": [
        "### Вывод:\n",
        "<span style=\"color:pink\">\n",
        "    Количество вакансий в базе проекта, соотношение вакансий по сферам деятельности, с явным выделением it направления позволяет сделать вывод, что проектная база данных является выборкой для учебных целей, не отражающей реальной картины на рынке труда.</span>\n",
        "\n",
        "<p><span style=\"color:pink\">\n",
        "    Наличие такого процента вакансий для it, можно было бы объяснить тем, что hh.ru очень популярна как площадка для поиска специалистов в данном направлении, в то время как вакансии сфер торговли или производства размещаются на других ресурсах (например в газетах), но и это предположение не может объяснить такое несоответствие с реальными, неусеченными данными.</span> </p>\n",
        "\n",
        "<span style=\"color:pink\">\n",
        "    Работа по созданию модели на основании данных в БД project_sql оправдана только в учебных целях. </span>"
      ]
    },
    {
      "cell_type": "markdown",
      "id": "8d62a9f3-f64e-4fe7-bdac-c4dffa16155e",
      "metadata": {
        "id": "8d62a9f3-f64e-4fe7-bdac-c4dffa16155e"
      },
      "source": [
        "# Юнит 4. Детальный анализ вакансий"
      ]
    },
    {
      "cell_type": "markdown",
      "id": "93053d3d-b284-481a-9cf7-012d7014c0e0",
      "metadata": {
        "id": "93053d3d-b284-481a-9cf7-012d7014c0e0"
      },
      "source": [
        "1. Напишите запрос, который позволит узнать, сколько (cnt) вакансий в каждом регионе (area).\n",
        "Отсортируйте по количеству вакансий в порядке убывания."
      ]
    },
    {
      "cell_type": "code",
      "execution_count": 89,
      "id": "3f069da6-fdc9-4ae7-b514-fafe2675efd3",
      "metadata": {
        "id": "3f069da6-fdc9-4ae7-b514-fafe2675efd3"
      },
      "outputs": [],
      "source": [
        "# текст запроса\n",
        "query_4_1 = f'''\n",
        "select \n",
        "    a.name, \n",
        "    count(v.id) cnt \n",
        "from \n",
        "    public.vacancies v \n",
        "join \n",
        "    public.areas a on v.area_id=a.id \n",
        "group by\n",
        "    a.name \n",
        "order by count(v.id) desc\n",
        "'''"
      ]
    },
    {
      "cell_type": "code",
      "execution_count": 90,
      "id": "P7QL86hrjhRJ",
      "metadata": {
        "id": "P7QL86hrjhRJ"
      },
      "outputs": [
        {
          "data": {
            "text/html": [
              "<div>\n",
              "<style scoped>\n",
              "    .dataframe tbody tr th:only-of-type {\n",
              "        vertical-align: middle;\n",
              "    }\n",
              "\n",
              "    .dataframe tbody tr th {\n",
              "        vertical-align: top;\n",
              "    }\n",
              "\n",
              "    .dataframe thead th {\n",
              "        text-align: right;\n",
              "    }\n",
              "</style>\n",
              "<table border=\"1\" class=\"dataframe\">\n",
              "  <thead>\n",
              "    <tr style=\"text-align: right;\">\n",
              "      <th></th>\n",
              "      <th>name</th>\n",
              "      <th>cnt</th>\n",
              "    </tr>\n",
              "  </thead>\n",
              "  <tbody>\n",
              "    <tr>\n",
              "      <th>0</th>\n",
              "      <td>Москва</td>\n",
              "      <td>5333</td>\n",
              "    </tr>\n",
              "    <tr>\n",
              "      <th>1</th>\n",
              "      <td>Санкт-Петербург</td>\n",
              "      <td>2851</td>\n",
              "    </tr>\n",
              "    <tr>\n",
              "      <th>2</th>\n",
              "      <td>Минск</td>\n",
              "      <td>2112</td>\n",
              "    </tr>\n",
              "    <tr>\n",
              "      <th>3</th>\n",
              "      <td>Новосибирск</td>\n",
              "      <td>2006</td>\n",
              "    </tr>\n",
              "    <tr>\n",
              "      <th>4</th>\n",
              "      <td>Алматы</td>\n",
              "      <td>1892</td>\n",
              "    </tr>\n",
              "  </tbody>\n",
              "</table>\n",
              "</div>"
            ],
            "text/plain": [
              "              name   cnt\n",
              "0           Москва  5333\n",
              "1  Санкт-Петербург  2851\n",
              "2            Минск  2112\n",
              "3      Новосибирск  2006\n",
              "4           Алматы  1892"
            ]
          },
          "metadata": {},
          "output_type": "display_data"
        }
      ],
      "source": [
        "# результат запроса\n",
        "vacancies_in_areas = queryExec(query_4_1)\n",
        "display(vacancies_in_areas.head(5))"
      ]
    },
    {
      "cell_type": "markdown",
      "id": "4266f0b6-1646-492a-88b4-2f6a46502135",
      "metadata": {
        "id": "4266f0b6-1646-492a-88b4-2f6a46502135"
      },
      "source": [
        "2. Напишите запрос, чтобы определить у какого количества вакансий заполнено хотя бы одно из двух полей с зарплатой."
      ]
    },
    {
      "cell_type": "code",
      "execution_count": 91,
      "id": "0c44b350-72eb-4d65-8b54-a1fc449ba9fd",
      "metadata": {
        "id": "0c44b350-72eb-4d65-8b54-a1fc449ba9fd"
      },
      "outputs": [],
      "source": [
        "# текст запроса\n",
        "query_4_2 = f'''\n",
        "select \n",
        "    count(v.id) cnt\n",
        "from\n",
        "    public.vacancies v\n",
        "where \n",
        "    v.salary_from is not NULL or v.salary_to is not NULL\n",
        "'''"
      ]
    },
    {
      "cell_type": "code",
      "execution_count": 92,
      "id": "rhvwaMDkoWTi",
      "metadata": {
        "id": "rhvwaMDkoWTi"
      },
      "outputs": [
        {
          "data": {
            "text/plain": [
              "'Количество вакансий с заполнением хотябы одного из двух полей с зарплатой: 24073'"
            ]
          },
          "metadata": {},
          "output_type": "display_data"
        }
      ],
      "source": [
        "# результат запроса\n",
        "vacancies_with_salary = queryExec(query_4_2)\n",
        "display(f\"Количество вакансий с заполнением хотябы одного из двух полей с зарплатой: {vacancies_with_salary['cnt'].iloc[0]}\")"
      ]
    },
    {
      "cell_type": "markdown",
      "id": "635c4d5d-f323-4c66-b428-50a088120aa0",
      "metadata": {
        "id": "635c4d5d-f323-4c66-b428-50a088120aa0"
      },
      "source": [
        "3. Найдите средние значения для нижней и верхней границы зарплатной вилки. Округлите значения до целого."
      ]
    },
    {
      "cell_type": "code",
      "execution_count": 93,
      "id": "603cdbe4-0ec3-4106-8eaf-c73fcdd29165",
      "metadata": {
        "id": "603cdbe4-0ec3-4106-8eaf-c73fcdd29165"
      },
      "outputs": [],
      "source": [
        "# текст запроса\n",
        "query_4_3 = f'''\n",
        "select \n",
        "    avg(v.salary_from) low_salary_limit, avg(v.salary_to) upper_salary_limit\n",
        "from \n",
        "    public.vacancies v\n",
        "'''"
      ]
    },
    {
      "cell_type": "code",
      "execution_count": 94,
      "id": "pswpAb66ovZZ",
      "metadata": {
        "id": "pswpAb66ovZZ"
      },
      "outputs": [
        {
          "data": {
            "text/plain": [
              "'Среднее значение нижней границы зарплатной вилки: 71065'"
            ]
          },
          "metadata": {},
          "output_type": "display_data"
        },
        {
          "data": {
            "text/plain": [
              "'Среднее значение верхней границы зарплатной вилки: 110537'"
            ]
          },
          "metadata": {},
          "output_type": "display_data"
        }
      ],
      "source": [
        "# результат запроса\n",
        "salary_limits = queryExec(query_4_3)\n",
        "display(f\"Среднее значение нижней границы зарплатной вилки: {round(salary_limits['low_salary_limit'].iloc[0])}\")\n",
        "display(f\"Среднее значение верхней границы зарплатной вилки: {round(salary_limits['upper_salary_limit'].iloc[0])}\")"
      ]
    },
    {
      "cell_type": "markdown",
      "id": "f3fdaec9-5fd3-4260-9cf5-1d7406b628a5",
      "metadata": {
        "id": "f3fdaec9-5fd3-4260-9cf5-1d7406b628a5"
      },
      "source": [
        "4. Напишите запрос, который выведет количество вакансий для каждого сочетания типа рабочего графика (schedule) и типа трудоустройства (employment), используемого в вакансиях. Результат отсортируйте по убыванию количества.\n"
      ]
    },
    {
      "cell_type": "code",
      "execution_count": 95,
      "id": "1ea710ec-871b-431e-9462-c7d0fd87011b",
      "metadata": {
        "id": "1ea710ec-871b-431e-9462-c7d0fd87011b"
      },
      "outputs": [],
      "source": [
        "# текст запроса\n",
        "query_4_4 = f'''\n",
        "select \n",
        "    schedule, \n",
        "    employment, \n",
        "    count(id) cnt\n",
        "from \n",
        "    public.vacancies\n",
        "group by \n",
        "    schedule, employment\n",
        "order by \n",
        "    count(id) desc\n",
        "'''"
      ]
    },
    {
      "cell_type": "code",
      "execution_count": 96,
      "id": "lGUVqavdo4JQ",
      "metadata": {
        "id": "lGUVqavdo4JQ"
      },
      "outputs": [
        {
          "data": {
            "text/plain": [
              "'Количество вакансий для каждого сочетания типа рабочего графика (schedule) и типа трудоустройства (employment):'"
            ]
          },
          "metadata": {},
          "output_type": "display_data"
        },
        {
          "data": {
            "text/html": [
              "<div>\n",
              "<style scoped>\n",
              "    .dataframe tbody tr th:only-of-type {\n",
              "        vertical-align: middle;\n",
              "    }\n",
              "\n",
              "    .dataframe tbody tr th {\n",
              "        vertical-align: top;\n",
              "    }\n",
              "\n",
              "    .dataframe thead th {\n",
              "        text-align: right;\n",
              "    }\n",
              "</style>\n",
              "<table border=\"1\" class=\"dataframe\">\n",
              "  <thead>\n",
              "    <tr style=\"text-align: right;\">\n",
              "      <th></th>\n",
              "      <th>schedule</th>\n",
              "      <th>employment</th>\n",
              "      <th>cnt</th>\n",
              "    </tr>\n",
              "  </thead>\n",
              "  <tbody>\n",
              "    <tr>\n",
              "      <th>0</th>\n",
              "      <td>Полный день</td>\n",
              "      <td>Полная занятость</td>\n",
              "      <td>35367</td>\n",
              "    </tr>\n",
              "    <tr>\n",
              "      <th>1</th>\n",
              "      <td>Удаленная работа</td>\n",
              "      <td>Полная занятость</td>\n",
              "      <td>7802</td>\n",
              "    </tr>\n",
              "    <tr>\n",
              "      <th>2</th>\n",
              "      <td>Гибкий график</td>\n",
              "      <td>Полная занятость</td>\n",
              "      <td>1593</td>\n",
              "    </tr>\n",
              "    <tr>\n",
              "      <th>3</th>\n",
              "      <td>Удаленная работа</td>\n",
              "      <td>Частичная занятость</td>\n",
              "      <td>1312</td>\n",
              "    </tr>\n",
              "    <tr>\n",
              "      <th>4</th>\n",
              "      <td>Сменный график</td>\n",
              "      <td>Полная занятость</td>\n",
              "      <td>940</td>\n",
              "    </tr>\n",
              "    <tr>\n",
              "      <th>5</th>\n",
              "      <td>Полный день</td>\n",
              "      <td>Стажировка</td>\n",
              "      <td>569</td>\n",
              "    </tr>\n",
              "    <tr>\n",
              "      <th>6</th>\n",
              "      <td>Вахтовый метод</td>\n",
              "      <td>Полная занятость</td>\n",
              "      <td>367</td>\n",
              "    </tr>\n",
              "    <tr>\n",
              "      <th>7</th>\n",
              "      <td>Полный день</td>\n",
              "      <td>Частичная занятость</td>\n",
              "      <td>347</td>\n",
              "    </tr>\n",
              "    <tr>\n",
              "      <th>8</th>\n",
              "      <td>Гибкий график</td>\n",
              "      <td>Частичная занятость</td>\n",
              "      <td>312</td>\n",
              "    </tr>\n",
              "    <tr>\n",
              "      <th>9</th>\n",
              "      <td>Полный день</td>\n",
              "      <td>Проектная работа</td>\n",
              "      <td>141</td>\n",
              "    </tr>\n",
              "    <tr>\n",
              "      <th>10</th>\n",
              "      <td>Удаленная работа</td>\n",
              "      <td>Проектная работа</td>\n",
              "      <td>133</td>\n",
              "    </tr>\n",
              "    <tr>\n",
              "      <th>11</th>\n",
              "      <td>Гибкий график</td>\n",
              "      <td>Стажировка</td>\n",
              "      <td>116</td>\n",
              "    </tr>\n",
              "    <tr>\n",
              "      <th>12</th>\n",
              "      <td>Сменный график</td>\n",
              "      <td>Частичная занятость</td>\n",
              "      <td>101</td>\n",
              "    </tr>\n",
              "    <tr>\n",
              "      <th>13</th>\n",
              "      <td>Удаленная работа</td>\n",
              "      <td>Стажировка</td>\n",
              "      <td>64</td>\n",
              "    </tr>\n",
              "    <tr>\n",
              "      <th>14</th>\n",
              "      <td>Гибкий график</td>\n",
              "      <td>Проектная работа</td>\n",
              "      <td>18</td>\n",
              "    </tr>\n",
              "    <tr>\n",
              "      <th>15</th>\n",
              "      <td>Сменный график</td>\n",
              "      <td>Стажировка</td>\n",
              "      <td>12</td>\n",
              "    </tr>\n",
              "    <tr>\n",
              "      <th>16</th>\n",
              "      <td>Вахтовый метод</td>\n",
              "      <td>Проектная работа</td>\n",
              "      <td>2</td>\n",
              "    </tr>\n",
              "    <tr>\n",
              "      <th>17</th>\n",
              "      <td>Сменный график</td>\n",
              "      <td>Проектная работа</td>\n",
              "      <td>1</td>\n",
              "    </tr>\n",
              "  </tbody>\n",
              "</table>\n",
              "</div>"
            ],
            "text/plain": [
              "            schedule           employment    cnt\n",
              "0        Полный день     Полная занятость  35367\n",
              "1   Удаленная работа     Полная занятость   7802\n",
              "2      Гибкий график     Полная занятость   1593\n",
              "3   Удаленная работа  Частичная занятость   1312\n",
              "4     Сменный график     Полная занятость    940\n",
              "5        Полный день           Стажировка    569\n",
              "6     Вахтовый метод     Полная занятость    367\n",
              "7        Полный день  Частичная занятость    347\n",
              "8      Гибкий график  Частичная занятость    312\n",
              "9        Полный день     Проектная работа    141\n",
              "10  Удаленная работа     Проектная работа    133\n",
              "11     Гибкий график           Стажировка    116\n",
              "12    Сменный график  Частичная занятость    101\n",
              "13  Удаленная работа           Стажировка     64\n",
              "14     Гибкий график     Проектная работа     18\n",
              "15    Сменный график           Стажировка     12\n",
              "16    Вахтовый метод     Проектная работа      2\n",
              "17    Сменный график     Проектная работа      1"
            ]
          },
          "metadata": {},
          "output_type": "display_data"
        }
      ],
      "source": [
        "# результат запроса\n",
        "schedules_employments = queryExec(query_4_4)\n",
        "display(\"Количество вакансий для каждого сочетания типа рабочего графика (schedule) и типа трудоустройства (employment):\")\n",
        "display(schedules_employments)"
      ]
    },
    {
      "cell_type": "markdown",
      "id": "0136ffee-0ead-4a6b-b608-61d1c753a438",
      "metadata": {
        "id": "0136ffee-0ead-4a6b-b608-61d1c753a438"
      },
      "source": [
        "5. Напишите запрос, выводящий значения поля Требуемый опыт работы (experience) в порядке возрастания количества вакансий, в которых указан данный вариант опыта. "
      ]
    },
    {
      "cell_type": "code",
      "execution_count": 97,
      "id": "5b3a8e79-f7ab-4008-b767-12aea3a205ea",
      "metadata": {
        "id": "5b3a8e79-f7ab-4008-b767-12aea3a205ea"
      },
      "outputs": [],
      "source": [
        "# текст запроса\n",
        "query_4_5 = f'''\n",
        "select \n",
        "    experience, \n",
        "    count(id) cnt\n",
        "from \n",
        "    public.vacancies\n",
        "group by \n",
        "    experience\n",
        "order by \n",
        "    count(id)\n",
        "'''"
      ]
    },
    {
      "cell_type": "code",
      "execution_count": 98,
      "id": "3Is64Y-hpDpq",
      "metadata": {
        "id": "3Is64Y-hpDpq"
      },
      "outputs": [
        {
          "data": {
            "text/plain": [
              "'Требуемый опыт работы (experience) в порядке возрастания количества вакансий:'"
            ]
          },
          "metadata": {},
          "output_type": "display_data"
        },
        {
          "data": {
            "text/html": [
              "<div>\n",
              "<style scoped>\n",
              "    .dataframe tbody tr th:only-of-type {\n",
              "        vertical-align: middle;\n",
              "    }\n",
              "\n",
              "    .dataframe tbody tr th {\n",
              "        vertical-align: top;\n",
              "    }\n",
              "\n",
              "    .dataframe thead th {\n",
              "        text-align: right;\n",
              "    }\n",
              "</style>\n",
              "<table border=\"1\" class=\"dataframe\">\n",
              "  <thead>\n",
              "    <tr style=\"text-align: right;\">\n",
              "      <th></th>\n",
              "      <th>experience</th>\n",
              "      <th>cnt</th>\n",
              "    </tr>\n",
              "  </thead>\n",
              "  <tbody>\n",
              "    <tr>\n",
              "      <th>0</th>\n",
              "      <td>Более 6 лет</td>\n",
              "      <td>1337</td>\n",
              "    </tr>\n",
              "    <tr>\n",
              "      <th>1</th>\n",
              "      <td>Нет опыта</td>\n",
              "      <td>7197</td>\n",
              "    </tr>\n",
              "    <tr>\n",
              "      <th>2</th>\n",
              "      <td>От 3 до 6 лет</td>\n",
              "      <td>14511</td>\n",
              "    </tr>\n",
              "    <tr>\n",
              "      <th>3</th>\n",
              "      <td>От 1 года до 3 лет</td>\n",
              "      <td>26152</td>\n",
              "    </tr>\n",
              "  </tbody>\n",
              "</table>\n",
              "</div>"
            ],
            "text/plain": [
              "           experience    cnt\n",
              "0         Более 6 лет   1337\n",
              "1           Нет опыта   7197\n",
              "2       От 3 до 6 лет  14511\n",
              "3  От 1 года до 3 лет  26152"
            ]
          },
          "metadata": {},
          "output_type": "display_data"
        }
      ],
      "source": [
        "# результат запроса\n",
        "stats_experience = queryExec(query_4_5)\n",
        "display(\"Требуемый опыт работы (experience) в порядке возрастания количества вакансий:\")\n",
        "display(stats_experience)"
      ]
    },
    {
      "cell_type": "markdown",
      "id": "oq2b7n1QpIka",
      "metadata": {
        "id": "oq2b7n1QpIka"
      },
      "source": [
        "***"
      ]
    },
    {
      "attachments": {},
      "cell_type": "markdown",
      "id": "cdcb91f2",
      "metadata": {},
      "source": [
        "### <span style=\"color:magenta\"> Выводы по детальному анализу вакансий </span>\n",
        "\n",
        "* Максимальное число вакансий находится в Москве, вследствие популяции города, уровня зарплат, уровня благоустроенности и прочих \"плюшек\" столицы страны. По этим же соображениям на 2-м и 3-м месте находятся Северная столица России и Минск. Вообще на российские города миллионики приходится 23 856 (48%), вцелом на города-миллионики, в том чиле стран ближнего зарубежья, приходится 29 456 вакансий (почти 60% всех вакансий в базе проекта). Т.о. требуются соискатели на 5 600 вакансий в городах независимых государств. \n",
        "\n",
        "* В 49% вакансий упоминается предлагаемая заработная плата. В среднем нижняя граница более 70 тыс. руб., а верхняя более 110 тыс. руб. В грубом сравнении с цифрами Росстата, средняя з/п по России 62 270 руб в текущем году, при этом выше 100 тыс. рублей зарплаты можно найти только в регионах: ЯНАО, Магаданской обл., Чукотском АО и в г. Москва. Т.о. здесь присутствует явное смещение предлагаемых зарплат к более высокому уровню.\n",
        "\n",
        "* В 72% вакансий запрашивается график работы/занятость: Полный день/Полная занятость. При этом в 16% предложений указана удаленная работа с полной занятостью - наследие короновирусного периода, из-за которого выявилось множество положительных моментов такого \"стиля\" работы вследствии еще и появления или усовершенствования интрументов для удаленной полноценной работы и более глубого внеднения различных подходов к управлению проектами.\n",
        "\n",
        "* 53% предложений из проектной базы запрашивают опыт работы более 1 года и менее 3 лет. Почти 30% вакансий содержат требование о стаже работы от 3 до 6-ти лет. Без опыта работы 14.6% предложений. Предпочтение на более молодой возраст, но уже получившее некоторый боевой опыт или представление о работе в специальности, способный к обучению. В 30 случаях из 100 требуются уже специалисты из категории профессионалы, но вместе с тем не потерявшие \"гибкость\" в сравнении с профессионалами с более чем 6 годами стажа работы.\n"
      ]
    },
    {
      "cell_type": "code",
      "execution_count": 132,
      "id": "e91f87ed-e25c-4f96-9f92-b642e8c0b4fa",
      "metadata": {
        "id": "e91f87ed-e25c-4f96-9f92-b642e8c0b4fa"
      },
      "outputs": [
        {
          "data": {
            "image/png": "[encoded data removed]",
            "text/plain": [
              "<Figure size 800x800 with 2 Axes>"
            ]
          },
          "metadata": {},
          "output_type": "display_data"
        }
      ],
      "source": [
        "# доп. исследование по зарплатам\n",
        "\n",
        "query_bonus_2 = f'''\n",
        "select \n",
        "    a.name, \n",
        "    coalesce(round(avg(v.salary_from)),0) from_sal, \n",
        "    coalesce(round(avg(v.salary_to)), 0) to_sal,\n",
        "    count(v.id) cnt\n",
        "from \n",
        "    public.vacancies v \n",
        "join \n",
        "    public.areas a on a.id = v.area_id \n",
        "where \n",
        "    v.salary_from is not NULL or v.salary_to is not NULL\n",
        "group by \n",
        "    a.id\n",
        "order by \n",
        "    from_sal desc, cnt desc\n",
        "limit 18\n",
        "'''\n",
        "\n",
        "df_salary = queryExec(query_bonus_2)\n",
        "\n",
        "sns.set_theme(style=\"whitegrid\")\n",
        "plt.figure(figsize=(8, 8))\n",
        "plt.subplot(2, 1, 1)\n",
        "fig1 = sns.barplot(x='name', y='from_sal', data=df_salary)\n",
        "plt.xticks(fontsize=10)\n",
        "plt.yticks(fontsize=10)\n",
        "plt.xticks(rotation=80)\n",
        "fig1.set_xlabel(\"Регион\", fontsize=10)\n",
        "fig1.set_ylabel('З/П \"от\"', fontsize=12)\n",
        "fig1.set_title('ТОП-18 уровней зарплат \"ОТ\" в регионах', fontsize=14)\n",
        "\n",
        "\n",
        "plt.subplot(2, 1, 2)\n",
        "fig2 = sns.barplot(y='cnt', x='name', data=df_salary)\n",
        "plt.xticks(fontsize=10)\n",
        "plt.yticks(fontsize=10)\n",
        "plt.xticks(rotation=80)\n",
        "fig2.set_ylabel(\"Количество вакансий\", fontsize=12)\n",
        "fig2.set_xlabel(\"Регион\", fontsize=10)\n",
        "fig2.set_title('Количество вакансий в регионах', fontsize=14)\n",
        "\n",
        "\n",
        "plt.subplots_adjust(hspace = 0.8)\n",
        "plt.show()"
      ]
    },
    {
      "attachments": {},
      "cell_type": "markdown",
      "id": "94bd6365",
      "metadata": {},
      "source": [
        "### Выводы:\n",
        "<span style=\"color:pink\">\n",
        "С учетом того, что база проекта представляет собой выборку вакансий, где более 70% относится к it напралению, стоит отметить, что предлагаемая З\\П в вакансиях (если она указана) в какой-то мере выше З\\П по данным Росстата. Из предыдушей диаграммы видно, что самые высокие З\\П предлагаются в основном за пределами России, но в основном это единичные предложения, на общем фоне можно отметить Армению (106 вакансий), Грузию (80 вакансий), Кипр (39), Турция (19). В России предложения с более высоким заявленном уровнем З\\П в Москве, ЯНАО, Санкт-Петербуг, Магаданская обл., Чукотский АО.</span>\n",
        "<p><span style=\"color:pink\">\n",
        "Важно при этом учитывать, что З/П явно указывается почти в половине вакансий. Возможно компании либо не хотят отпугнуть соискателей, либо пытаются больше оставить себе места для маневра при попытке договорится об оплате \"на лету\".</span></p>\n",
        "<span style=\"color:pink\">\n",
        "На города-миллионики приходится почти 60% всех вакансий, где топ-3: Москва, Санкт-Петербург и Минск.</span>\n",
        "\n",
        "<p><span style=\"color:pink\">\n",
        "73% предложений с графиком работы \"Полный день/Полная занятость\", 16% предложений по \"удаленке\" с полной занятостью. Такой высокий процент предложений по удаленнке объясняется большим количество вакансий для it-специалистов.</span></p>\n"
      ]
    },
    {
      "cell_type": "markdown",
      "id": "7ea20ab6-04a7-40a0-adec-443a0e5a42c3",
      "metadata": {
        "id": "7ea20ab6-04a7-40a0-adec-443a0e5a42c3"
      },
      "source": [
        "# Юнит 5. Анализ работодателей"
      ]
    },
    {
      "cell_type": "markdown",
      "id": "968aed80-74ef-4ffb-b5bf-c65b84e9caea",
      "metadata": {
        "id": "968aed80-74ef-4ffb-b5bf-c65b84e9caea"
      },
      "source": [
        "1. Напишите запрос, который позволит узнать, какие работодатели находятся на первом и пятом месте по количеству вакансий."
      ]
    },
    {
      "cell_type": "code",
      "execution_count": 99,
      "id": "f2d62796-d400-4ec1-a675-88112739a50e",
      "metadata": {
        "id": "f2d62796-d400-4ec1-a675-88112739a50e"
      },
      "outputs": [],
      "source": [
        "# текст запроса\n",
        "query_5_1 = f'''\n",
        "select \n",
        "    e.name,\n",
        "    count(v.id) cnt\n",
        "from \n",
        "    public.employers e \n",
        "join    \n",
        "    public.vacancies v on e.id = v.employer_id\n",
        "group by \n",
        "    e.id \n",
        "order by count(v.id) desc \n",
        "limit 5\n",
        "'''"
      ]
    },
    {
      "cell_type": "code",
      "execution_count": 100,
      "id": "64tOMkAxqkQk",
      "metadata": {
        "id": "64tOMkAxqkQk"
      },
      "outputs": [
        {
          "data": {
            "text/plain": [
              "'первый работотадель по кол-ву вакансий: Яндекс'"
            ]
          },
          "metadata": {},
          "output_type": "display_data"
        },
        {
          "data": {
            "text/plain": [
              "'пятый работотадель по кол-ву вакансий: Газпром нефть'"
            ]
          },
          "metadata": {},
          "output_type": "display_data"
        }
      ],
      "source": [
        "# результат запроса\n",
        "empoyers_top5 = queryExec(query_5_1)\n",
        "display(f\"первый работотадель по кол-ву вакансий: {empoyers_top5['name'].iloc[0]}\")\n",
        "display(f\"пятый работотадель по кол-ву вакансий: {empoyers_top5['name'].iloc[4]}\")"
      ]
    },
    {
      "cell_type": "markdown",
      "id": "68377cfc-b378-43dc-ab7d-1195abf2c515",
      "metadata": {
        "id": "68377cfc-b378-43dc-ab7d-1195abf2c515"
      },
      "source": [
        "2. Напишите запрос, который для каждого региона выведет количество работодателей и вакансий в нём.\n",
        "Среди регионов, в которых нет вакансий, найдите тот, в котором наибольшее количество работодателей.\n"
      ]
    },
    {
      "cell_type": "code",
      "execution_count": 102,
      "id": "dd7df27a-e3e8-412e-a21a-5d389b71e891",
      "metadata": {
        "id": "dd7df27a-e3e8-412e-a21a-5d389b71e891"
      },
      "outputs": [],
      "source": [
        "# текст запроса\n",
        "query_5_2 = f'''\n",
        "select \n",
        "    a.name,\n",
        "    count(v.name) cnt_vacations,\n",
        "    count(disctinct e.id) cnt_employers\n",
        "from \n",
        "    public.areas a \n",
        "left join \n",
        "    public.vacancies v on v.area_id = a.id \n",
        "left join \n",
        "    public.employers e on e.area = a.id\n",
        "where\n",
        "    v.id is null\n",
        "group by \n",
        "    a.id \n",
        "order by \n",
        "    cnt_employers desc\n",
        "limit 1 \n",
        "'''"
      ]
    },
    {
      "cell_type": "code",
      "execution_count": 103,
      "id": "x1ikWbydrbf6",
      "metadata": {
        "id": "x1ikWbydrbf6"
      },
      "outputs": [
        {
          "data": {
            "text/plain": [
              "'Регион без вакансий: Россия,    где присутствует 410 работодателей'"
            ]
          },
          "metadata": {},
          "output_type": "display_data"
        }
      ],
      "source": [
        "# результат запроса\n",
        "area_without_vacs = queryExec(query_5_2)\n",
        "display(f\"Регион без вакансий: {area_without_vacs['name'].iloc[0]},\\\n",
        "    где присутствует {area_without_vacs['cnt_employers'].iloc[0]} работодателей\")"
      ]
    },
    {
      "cell_type": "markdown",
      "id": "f2fe0acb-ab1a-4e15-9326-2560e22d73c1",
      "metadata": {
        "id": "f2fe0acb-ab1a-4e15-9326-2560e22d73c1"
      },
      "source": [
        "3. Для каждого работодателя посчитайте количество регионов, в которых он публикует свои вакансии. Отсортируйте результат по убыванию количества.\n"
      ]
    },
    {
      "cell_type": "code",
      "execution_count": 142,
      "id": "6271f8ad-bd2e-4196-ae4a-5b39c4c1010e",
      "metadata": {
        "id": "6271f8ad-bd2e-4196-ae4a-5b39c4c1010e"
      },
      "outputs": [],
      "source": [
        "# текст запроса\n",
        "query_5_3 = f'''\n",
        "select \n",
        "    e.name,\n",
        "    count(distinct v.area_id) cnt_areas\n",
        "from \n",
        "    public.employers e \n",
        "join \n",
        "    public.vacancies v on v.employer_id = e.id \n",
        "group by \n",
        "    e.id\n",
        "order by \n",
        "    cnt_areas desc    \n",
        "\n",
        "'''"
      ]
    },
    {
      "cell_type": "code",
      "execution_count": 139,
      "id": "1EIvX3HasH4F",
      "metadata": {
        "id": "1EIvX3HasH4F"
      },
      "outputs": [
        {
          "data": {
            "text/plain": [
              "'Максимальное количество регионов размещения = 181    у Яндекса'"
            ]
          },
          "metadata": {},
          "output_type": "display_data"
        }
      ],
      "source": [
        "# результат запроса\n",
        "employer_max_areas = queryExec(query_5_3)\n",
        "display(f\"Максимальное количество регионов размещения = {employer_max_areas['cnt_areas'].iloc[0]}\\\n",
        "    у {employer_max_areas['name'].iloc[0]}а\")"
      ]
    },
    {
      "cell_type": "markdown",
      "id": "eab2206d-d95b-468b-8e5f-34381abf0ce7",
      "metadata": {
        "id": "eab2206d-d95b-468b-8e5f-34381abf0ce7"
      },
      "source": [
        "4. Напишите запрос для подсчёта количества работодателей, у которых не указана сфера деятельности. "
      ]
    },
    {
      "cell_type": "code",
      "execution_count": 106,
      "id": "80defb23-bfb1-4a18-8be6-bf36aa7165d5",
      "metadata": {
        "id": "80defb23-bfb1-4a18-8be6-bf36aa7165d5"
      },
      "outputs": [],
      "source": [
        "# текст запроса\n",
        "query_5_4 = f'''\n",
        "select \n",
        "    count(e.name) cnt\n",
        "from \n",
        "    public.employers e \n",
        "where \n",
        "    e.id not in (select employer_id from public.employers_industries)\n",
        "'''"
      ]
    },
    {
      "cell_type": "code",
      "execution_count": 107,
      "id": "Dp_yCx6ysQSu",
      "metadata": {
        "id": "Dp_yCx6ysQSu"
      },
      "outputs": [
        {
          "data": {
            "text/plain": [
              "'Количество работодателей без указания сферы деятельности: 8419'"
            ]
          },
          "metadata": {},
          "output_type": "display_data"
        }
      ],
      "source": [
        "# результат запроса\n",
        "cnt_empls_wout_indst = queryExec(query_5_4)\n",
        "display(f\"Количество работодателей без указания сферы деятельности: {cnt_empls_wout_indst['cnt'].iloc[0]}\")"
      ]
    },
    {
      "cell_type": "markdown",
      "id": "0112af31-f6b0-4e3b-82ab-71296e752e5e",
      "metadata": {
        "id": "0112af31-f6b0-4e3b-82ab-71296e752e5e"
      },
      "source": [
        "5. Напишите запрос, чтобы узнать название компании, находящейся на третьем месте в алфавитном списке (по названию) компаний, у которых указано четыре сферы деятельности. "
      ]
    },
    {
      "cell_type": "code",
      "execution_count": 108,
      "id": "973b0cfc-a972-470a-8b4a-68744ef220c4",
      "metadata": {
        "id": "973b0cfc-a972-470a-8b4a-68744ef220c4"
      },
      "outputs": [],
      "source": [
        "# текст запроса\n",
        "count_industries = 4\n",
        "query_5_5 = f'''\n",
        "select \n",
        "    e.name, \n",
        "    count(i.id) cnt\n",
        "from \n",
        "    public.employers e \n",
        "join \n",
        "    public.employers_industries e_i on e_i.employer_id = e.id \n",
        "join \n",
        "    public.industries i on i.id = e_i.industry_id\n",
        "group by \n",
        "    e.id \n",
        "having \n",
        "    count(i.id) = {count_industries}\n",
        "order by \n",
        "    e.name \n",
        "offset 2 limit 1\n",
        "'''"
      ]
    },
    {
      "cell_type": "code",
      "execution_count": 109,
      "id": "xsPtpp8EsaED",
      "metadata": {
        "id": "xsPtpp8EsaED"
      },
      "outputs": [
        {
          "data": {
            "text/plain": [
              "'Компания 2ГИС работает в 4-х сферах деятельности.'"
            ]
          },
          "metadata": {},
          "output_type": "display_data"
        }
      ],
      "source": [
        "# результат запроса\n",
        "employ_in4_indust = queryExec(query_5_5)\n",
        "display(f\"Компания {employ_in4_indust['name'].iloc[0]} работает в 4-х сферах деятельности.\")"
      ]
    },
    {
      "cell_type": "markdown",
      "id": "3bfcfdaf-755d-4d2b-8ed8-326201dc07ab",
      "metadata": {
        "id": "3bfcfdaf-755d-4d2b-8ed8-326201dc07ab"
      },
      "source": [
        "6. С помощью запроса выясните, у какого количества работодателей в качестве сферы деятельности указана Разработка программного обеспечения.\n"
      ]
    },
    {
      "cell_type": "code",
      "execution_count": 110,
      "id": "ad3f270f-2991-47eb-929b-e8f88a55b0d1",
      "metadata": {
        "id": "ad3f270f-2991-47eb-929b-e8f88a55b0d1"
      },
      "outputs": [],
      "source": [
        "# текст запроса\n",
        "industry = 'Разработка программного обеспечения'\n",
        "query_5_6 = f'''\n",
        "select \n",
        "   count(e.name) cnt\n",
        "from \n",
        "    public.employers e \n",
        "join \n",
        "    public.employers_industries e_i on e_i.employer_id = e.id \n",
        "join \n",
        "    public.industries i on i.id = e_i.industry_id\n",
        "where \n",
        "    i.name = '{industry}'\n",
        "'''"
      ]
    },
    {
      "cell_type": "code",
      "execution_count": 111,
      "id": "H72qxWM0shPR",
      "metadata": {
        "id": "H72qxWM0shPR"
      },
      "outputs": [
        {
          "data": {
            "text/plain": [
              "'Количество компаний разработчиков ПО: 3553'"
            ]
          },
          "metadata": {},
          "output_type": "display_data"
        }
      ],
      "source": [
        "# результат запроса\n",
        "cnt_employers_dev = queryExec(query_5_6)\n",
        "display(f\"Количество компаний разработчиков ПО: {cnt_employers_dev['cnt'].iloc[0]}\")"
      ]
    },
    {
      "cell_type": "markdown",
      "id": "7b02bb86-0546-40fb-94a4-242f050a5c57",
      "metadata": {
        "id": "7b02bb86-0546-40fb-94a4-242f050a5c57"
      },
      "source": [
        "7. Для компании «Яндекс» выведите список регионов-миллионников, в которых представлены вакансии компании, вместе с количеством вакансий в этих регионах. Также добавьте строку Total с общим количеством вакансий компании. Результат отсортируйте по возрастанию количества.\n",
        "\n",
        "Список городов-милионников надо взять [отсюда](https://ru.wikipedia.org/wiki/%D0%93%D0%BE%D1%80%D0%BE%D0%B4%D0%B0-%D0%BC%D0%B8%D0%BB%D0%BB%D0%B8%D0%BE%D0%BD%D0%B5%D1%80%D1%8B_%D0%A0%D0%BE%D1%81%D1%81%D0%B8%D0%B8). \n",
        "\n",
        "Если возникнут трудности с этим задание посмотрите материалы модуля  PYTHON-17. Как получать данные из веб-источников и API. "
      ]
    },
    {
      "cell_type": "code",
      "execution_count": 94,
      "id": "ZdfrL6gIs1Pn",
      "metadata": {
        "id": "ZdfrL6gIs1Pn"
      },
      "outputs": [
        {
          "data": {
            "text/plain": [
              "\"'Москва','Санкт-Петербург','Новосибирск','Екатеринбург','Казань','Нижний Новгород','Челябинск','Красноярск','Самара','Уфа','Ростов-на-Дону','Омск','Краснодар','Воронеж','Пермь','Волгоград'\""
            ]
          },
          "execution_count": 94,
          "metadata": {},
          "output_type": "execute_result"
        }
      ],
      "source": [
        "# код для получения списка городов-милионников\n",
        "url = 'https://ru.wikipedia.org/wiki/Города-миллионеры_России'\n",
        "response = requests.get(url)\n",
        "# Подготавливаем нулевую строку для списка городов\n",
        "cities_list = \"\"\n",
        "page = BeautifulSoup(response.text, 'html.parser')\n",
        "# Выбираем нужную таблицу класса standart...\n",
        "table = page.find('table',class_='standard')\n",
        "# Перебераем все ссылки в таблице, учитывая, что родителем ссылки является столбец\n",
        "for ahead in table.findAll('a'):\n",
        "  if ahead.parent.name == 'td':\n",
        "     cities_list = cities_list + '\\'' + ahead[\"title\"] + '\\','\n",
        "# Из каждой ссылки был вытянут title и добавлен в строку-лимонников\n",
        "# Формируем строку по формату 'город 1', ...,'город n' для запроса   \n",
        "cities_list = cities_list[0: len(cities_list)-1]  \n",
        "\n",
        "cities_list"
      ]
    },
    {
      "cell_type": "code",
      "execution_count": 95,
      "id": "5a0e32a4-e68a-4365-8a39-2fe24c542c36",
      "metadata": {
        "id": "5a0e32a4-e68a-4365-8a39-2fe24c542c36"
      },
      "outputs": [],
      "source": [
        "# текст запроса\n",
        "company = 'Яндекс'\n",
        "query_5_7 = f'''\n",
        "(\n",
        "select \n",
        "    a.name,\n",
        "    count(v.id) cnt\n",
        "from \n",
        "    public.employers e \n",
        "join\n",
        "    public.vacancies v on v.employer_id = e.id and e.name = '{company}'\n",
        "join \n",
        "    public.areas a on a.id = v.area_id and a.name in ({cities_list})\n",
        "group by \n",
        "    a.id \n",
        ")\n",
        "union all\n",
        "(\n",
        "select \n",
        "    'Total', count(*)\n",
        "from \n",
        " public.employers e \n",
        "join\n",
        "    public.vacancies v on v.employer_id = e.id and e.name = '{company}'\n",
        "join \n",
        "    public.areas a on a.id = v.area_id and a.name in ({cities_list})\n",
        ")\n",
        "order by cnt\n",
        "'''"
      ]
    },
    {
      "cell_type": "code",
      "execution_count": 96,
      "id": "ttPhiO1rsvPq",
      "metadata": {
        "id": "ttPhiO1rsvPq"
      },
      "outputs": [
        {
          "data": {
            "text/plain": [
              "'Список регионов-миллиоников, где присуствует Яндекс и кол-во вакансий в них:'"
            ]
          },
          "metadata": {},
          "output_type": "display_data"
        },
        {
          "data": {
            "text/html": [
              "<div>\n",
              "<style scoped>\n",
              "    .dataframe tbody tr th:only-of-type {\n",
              "        vertical-align: middle;\n",
              "    }\n",
              "\n",
              "    .dataframe tbody tr th {\n",
              "        vertical-align: top;\n",
              "    }\n",
              "\n",
              "    .dataframe thead th {\n",
              "        text-align: right;\n",
              "    }\n",
              "</style>\n",
              "<table border=\"1\" class=\"dataframe\">\n",
              "  <thead>\n",
              "    <tr style=\"text-align: right;\">\n",
              "      <th></th>\n",
              "      <th>name</th>\n",
              "      <th>cnt</th>\n",
              "    </tr>\n",
              "  </thead>\n",
              "  <tbody>\n",
              "    <tr>\n",
              "      <th>0</th>\n",
              "      <td>Омск</td>\n",
              "      <td>21</td>\n",
              "    </tr>\n",
              "    <tr>\n",
              "      <th>1</th>\n",
              "      <td>Челябинск</td>\n",
              "      <td>22</td>\n",
              "    </tr>\n",
              "    <tr>\n",
              "      <th>2</th>\n",
              "      <td>Красноярск</td>\n",
              "      <td>23</td>\n",
              "    </tr>\n",
              "    <tr>\n",
              "      <th>3</th>\n",
              "      <td>Волгоград</td>\n",
              "      <td>24</td>\n",
              "    </tr>\n",
              "    <tr>\n",
              "      <th>4</th>\n",
              "      <td>Пермь</td>\n",
              "      <td>25</td>\n",
              "    </tr>\n",
              "    <tr>\n",
              "      <th>5</th>\n",
              "      <td>Казань</td>\n",
              "      <td>25</td>\n",
              "    </tr>\n",
              "    <tr>\n",
              "      <th>6</th>\n",
              "      <td>Ростов-на-Дону</td>\n",
              "      <td>25</td>\n",
              "    </tr>\n",
              "    <tr>\n",
              "      <th>7</th>\n",
              "      <td>Самара</td>\n",
              "      <td>26</td>\n",
              "    </tr>\n",
              "    <tr>\n",
              "      <th>8</th>\n",
              "      <td>Уфа</td>\n",
              "      <td>26</td>\n",
              "    </tr>\n",
              "    <tr>\n",
              "      <th>9</th>\n",
              "      <td>Краснодар</td>\n",
              "      <td>30</td>\n",
              "    </tr>\n",
              "    <tr>\n",
              "      <th>10</th>\n",
              "      <td>Воронеж</td>\n",
              "      <td>32</td>\n",
              "    </tr>\n",
              "    <tr>\n",
              "      <th>11</th>\n",
              "      <td>Новосибирск</td>\n",
              "      <td>35</td>\n",
              "    </tr>\n",
              "    <tr>\n",
              "      <th>12</th>\n",
              "      <td>Нижний Новгород</td>\n",
              "      <td>36</td>\n",
              "    </tr>\n",
              "    <tr>\n",
              "      <th>13</th>\n",
              "      <td>Екатеринбург</td>\n",
              "      <td>39</td>\n",
              "    </tr>\n",
              "    <tr>\n",
              "      <th>14</th>\n",
              "      <td>Санкт-Петербург</td>\n",
              "      <td>42</td>\n",
              "    </tr>\n",
              "    <tr>\n",
              "      <th>15</th>\n",
              "      <td>Москва</td>\n",
              "      <td>54</td>\n",
              "    </tr>\n",
              "    <tr>\n",
              "      <th>16</th>\n",
              "      <td>Total</td>\n",
              "      <td>485</td>\n",
              "    </tr>\n",
              "  </tbody>\n",
              "</table>\n",
              "</div>"
            ],
            "text/plain": [
              "               name  cnt\n",
              "0              Омск   21\n",
              "1         Челябинск   22\n",
              "2        Красноярск   23\n",
              "3         Волгоград   24\n",
              "4             Пермь   25\n",
              "5            Казань   25\n",
              "6    Ростов-на-Дону   25\n",
              "7            Самара   26\n",
              "8               Уфа   26\n",
              "9         Краснодар   30\n",
              "10          Воронеж   32\n",
              "11      Новосибирск   35\n",
              "12  Нижний Новгород   36\n",
              "13     Екатеринбург   39\n",
              "14  Санкт-Петербург   42\n",
              "15           Москва   54\n",
              "16            Total  485"
            ]
          },
          "metadata": {},
          "output_type": "display_data"
        }
      ],
      "source": [
        "# результат запроса\n",
        "display('Список регионов-миллиоников, где присуствует Яндекс и кол-во вакансий в них:')\n",
        "yandex_cities = queryExec(query_5_7)\n",
        "display(yandex_cities)"
      ]
    },
    {
      "cell_type": "markdown",
      "id": "04966e40-3bc3-4dc8-9ba2-e80580ce3abc",
      "metadata": {
        "id": "04966e40-3bc3-4dc8-9ba2-e80580ce3abc"
      },
      "source": [
        "***"
      ]
    },
    {
      "attachments": {},
      "cell_type": "markdown",
      "id": "6f802cf2",
      "metadata": {},
      "source": [
        "### <span style=\"color:magenta\"> Выводы по детальному анализу работодателей </span>\n",
        "\n",
        "* В необъятной России 11 часовых поясов, для компаний масшатба страны, логично предположить наличие хотябы одного присутствия в каждом часовом поясе как минимум. Кроме того Российская федерация состоит из 85 субъектов.\n",
        "Количество размещаемых вакансий находится в прямой зависимости от того, к какому бизнесу (мелкий бизнес, средний бизнес, крупнный бизнес) относится работодатель. Крупные национальные компании разыскивают большое количество различных специалистов в разных регионах.\n",
        "Примером являются лидеры по количеству размещенных вакансий и количеству регионов, где разыскиваются будующие сотрудники, является Яндекс и Ростелеком.\n",
        "Яндекс разместило 1933 вакансии в 181 населенном пунке. Ростелеком размещает 491 вакансию в 152 насел. пункте.\n",
        "\n",
        "* Для примера можно взять в фокус Яндекс, существует целое облоко сервисов, среди которых есть в том числе и Яндекс.Маркет, Яндекс.Такси итд. Таким образом Яндекс является материнской компанией, которая расположена в Москве, а все выше перечисленные сервисы как бы подразделения, которые присутствуют во всех крупных центрах, в том числе городах административного значения, не являющимися миллионниками. \n",
        "\n",
        "* В топе работодателей по количеству вакансий присутствуют банки: Тинькофф, СБЕР, Совкомбанк. Каждый банк имеет свои филиалы и отделения. Если взять Тинькофф, то основная особенность работа он-лайн и невидимое присутствие без характерных банкам офисов с отрядами менеджеров, кассиров и рассчетников. Но даже для такого банка можно найти информацию о его работе в 79 городах России, филиальная сеть банка составляет 58 отделений и 245 банкоматов по всей России. Явный упор на он-лайн обслуживание банка Тинькофф по сравнению с др. банками отчасти объясняет наибольшее количество вакансий с удаленным графиком работы (ниже приведена диаграмма).\n",
        "\n",
        "* В близи каждого административного центра, находятся небольшие города-спутники. Работодатель может указать такие локации по географическому принципу: допустим радиус в 60 км.\n",
        "В 331 локациях, где нет работодателей размещены 723 вакансии, что объяснимо тем, что представительство данных организаций находится в более крупных населенных пунктах (возможно городах-миллиониках), находящихся по соседству.\n",
        "\n",
        "* Только 36% всех работодателей проектной базы указали сферу деятельности. Одной из причин пропуска в поле сферы деятельности возможно является нежелание усечения своего поля деятельности. Одна и та же компания может отметить несколько пунктов из перечня всех сфер: 2 384 компании указали 4 и более сфер своей деятельности. Из всех 23 501 компаний работодателей 3 553 компаний заявлены как разработчики программного обеспечения (что составляет 15%). "
      ]
    },
    {
      "cell_type": "code",
      "execution_count": 161,
      "id": "b2a59018",
      "metadata": {},
      "outputs": [
        {
          "data": {
            "image/png": "[encoded data removed]",
            "text/plain": [
              "<Figure size 800x500 with 1 Axes>"
            ]
          },
          "metadata": {},
          "output_type": "display_data"
        }
      ],
      "source": [
        "query_bonus_3  = f'''\n",
        "select \n",
        "    e.name bank, \n",
        "    v.schedule, \n",
        "    count(v.schedule) cnt\n",
        "from \n",
        "    public.employers e \n",
        "join \n",
        "    vacancies v on v.employer_id = e.id\n",
        "join \n",
        "    areas a on a.id = v.area_id\n",
        "where \n",
        "    e.name in ('Тинькофф', 'СБЕР', 'Совкомбанк', 'Газпромбанк', 'Альфа-Банк', 'Банк ВТБ (ПАО)')\n",
        "group by \n",
        "    e.name, v.schedule\n",
        "order by \n",
        "    cnt desc, v.schedule\n",
        "    \n",
        "'''\n",
        "\n",
        "df_banks = queryExec(query_bonus_3)\n",
        "\n",
        "plt.figure(figsize=(8, 5))\n",
        "ax = sns.barplot(df_banks, x='bank', y='cnt', hue='schedule')\n",
        "plt.xticks(rotation=80)\n",
        "ax.set_title(\"Вакансии 6 банков с учетом графика работы\", fontsize=12)\n",
        "ax.set_xlabel(\"Банки\", fontsize=12)\n",
        "ax.set_ylabel(\"Количество вакансий\", fontsize=12)\n",
        "\n",
        "plt.show()"
      ]
    },
    {
      "cell_type": "markdown",
      "id": "b1ef156a-efcb-49ce-bb23-90763e7f35b2",
      "metadata": {
        "id": "b1ef156a-efcb-49ce-bb23-90763e7f35b2",
        "tags": []
      },
      "source": [
        "# Юнит 6. Предметный анализ"
      ]
    },
    {
      "cell_type": "markdown",
      "id": "b9cd50a0-992d-4988-8463-2b2b1c4629b4",
      "metadata": {
        "id": "b9cd50a0-992d-4988-8463-2b2b1c4629b4"
      },
      "source": [
        "1. Сколько вакансий имеет отношение к данным?\n",
        "\n",
        "Считаем, что вакансия имеет отношение к данным, если в её названии содержатся слова 'data' или 'данн'.\n",
        "\n",
        "*Подсказка: Обратите внимание, что названия вакансий могут быть написаны в любом регистре.* \n"
      ]
    },
    {
      "cell_type": "code",
      "execution_count": 115,
      "id": "54ab0e50-c0f1-47cc-a54b-bc5c8bc363f9",
      "metadata": {
        "id": "54ab0e50-c0f1-47cc-a54b-bc5c8bc363f9"
      },
      "outputs": [],
      "source": [
        "# текст запроса\n",
        "param_1 = 'data'\n",
        "param_2 = 'данн'\n",
        "\n",
        "query_6_1 = f'''\n",
        "select \n",
        "    count(*) cnt\n",
        "from \n",
        "    public.vacancies\n",
        "where \n",
        "    lower(name) like '%{param_1}%' or lower(name) like '%{param_2}%'\n",
        "'''"
      ]
    },
    {
      "cell_type": "code",
      "execution_count": 116,
      "id": "9F1meAqsuUjd",
      "metadata": {
        "id": "9F1meAqsuUjd"
      },
      "outputs": [
        {
          "data": {
            "text/plain": [
              "'Количество вакансий имеющих отношение к данным: 1771'"
            ]
          },
          "metadata": {},
          "output_type": "display_data"
        }
      ],
      "source": [
        "# результат запроса\n",
        "count_vacancies_ds = queryExec(query_6_1)\n",
        "display(f\"Количество вакансий имеющих отношение к данным: {count_vacancies_ds['cnt'].iloc[0]}\")"
      ]
    },
    {
      "cell_type": "markdown",
      "id": "4dea20cb-a36b-474a-a0b9-e08e8e3857a5",
      "metadata": {
        "id": "4dea20cb-a36b-474a-a0b9-e08e8e3857a5"
      },
      "source": [
        "2. Сколько есть подходящих вакансий для начинающего дата-сайентиста? \n",
        "Будем считать вакансиями для дата-сайентистов такие, в названии которых есть хотя бы одно из следующих сочетаний:\n",
        "* 'data scientist'\n",
        "* 'data science'\n",
        "* 'исследователь данных'\n",
        "* 'ML' (здесь не нужно брать вакансии по HTML)\n",
        "* 'machine learning'\n",
        "* 'машинн%обучен%'\n",
        "\n",
        "** В следующих заданиях мы продолжим работать с вакансиями по этому условию.*\n",
        "\n",
        "Считаем вакансиями для специалистов уровня Junior следующие:\n",
        "* в названии есть слово 'junior' *или*\n",
        "* требуемый опыт — Нет опыта *или*\n",
        "* тип трудоустройства — Стажировка.\n",
        " "
      ]
    },
    {
      "cell_type": "code",
      "execution_count": 118,
      "id": "9c61b3c0-bb66-46c9-ae1e-81d3f5752b4a",
      "metadata": {
        "id": "9c61b3c0-bb66-46c9-ae1e-81d3f5752b4a"
      },
      "outputs": [],
      "source": [
        "# Список подстрок - параметров для запроса\n",
        "param_list = ['data scientist','data science','исследователь данных','machine learning','машинн%обучен%']\n",
        "# Объединяем в единую строку для последующего использования в sql query\n",
        "param_string = ('|').join(param_list)\n",
        "\n",
        "# текст запроса\n",
        "query_6_2 = f'''\n",
        "select \n",
        "    count(*) cnt\n",
        "from \n",
        "    public.vacancies\n",
        "where \n",
        "    (lower(name) similar to '%({param_string})%' or\n",
        "    name like '%ML%')\n",
        "    and position('html' in lower(name)) = 0\n",
        "    and (position('junior' in lower(name)) > 0 or \n",
        "        experience = 'Нет опыта' or\n",
        "        employment = 'Стажировка')\n",
        "'''"
      ]
    },
    {
      "cell_type": "code",
      "execution_count": 119,
      "id": "ZNM-LLYuu1dj",
      "metadata": {
        "id": "ZNM-LLYuu1dj"
      },
      "outputs": [
        {
          "data": {
            "text/plain": [
              "'Количество вакансий для начинающего дата-сайентиста: 51'"
            ]
          },
          "metadata": {},
          "output_type": "display_data"
        }
      ],
      "source": [
        "# результат запроса\n",
        "count_vacancies_jun = queryExec(query_6_2)\n",
        "display(f\"Количество вакансий для начинающего дата-сайентиста: {count_vacancies_jun['cnt'].iloc[0]}\")"
      ]
    },
    {
      "cell_type": "markdown",
      "id": "eedceb80-c5ca-480e-b27a-278dfb8b4438",
      "metadata": {
        "id": "eedceb80-c5ca-480e-b27a-278dfb8b4438"
      },
      "source": [
        "3. Сколько есть вакансий для DS, в которых в качестве ключевого навыка указан SQL или postgres?\n",
        "\n",
        "** Критерии для отнесения вакансии к DS указаны в предыдущем задании.*"
      ]
    },
    {
      "cell_type": "code",
      "execution_count": 120,
      "id": "69621713-0cc5-4f1b-a1d7-bb144fa6148c",
      "metadata": {
        "id": "69621713-0cc5-4f1b-a1d7-bb144fa6148c"
      },
      "outputs": [],
      "source": [
        "# текст запроса\n",
        "query_6_3 = f'''\n",
        "select \n",
        "    count(*) cnt\n",
        "from \n",
        "    public.vacancies\n",
        "where \n",
        "    (lower(name) similar to '%({param_string})%' or\n",
        "    name like '%ML%')\n",
        "    and position('html' in lower(name)) = 0\n",
        "    and (position('sql' in lower(key_skills)) > 0 or \n",
        "        position('postgres' in lower(key_skills)) > 0)\n",
        "'''"
      ]
    },
    {
      "cell_type": "code",
      "execution_count": 121,
      "id": "alA8WEAAvGdf",
      "metadata": {
        "id": "alA8WEAAvGdf"
      },
      "outputs": [
        {
          "data": {
            "text/plain": [
              "'Количество вакансий для DS, в которых в качестве ключевого навыка указан SQL или postgres:     201'"
            ]
          },
          "metadata": {},
          "output_type": "display_data"
        }
      ],
      "source": [
        "# результат запроса\n",
        "count_ds_vacations = queryExec(query_6_3)\n",
        "display(f\"Количество вакансий для DS, в которых в качестве ключевого навыка указан SQL или postgres: \\\n",
        "    {count_ds_vacations['cnt'].iloc[0]}\")"
      ]
    },
    {
      "cell_type": "markdown",
      "id": "1be1e9c6-37cf-4a5f-bfeb-04cab799dc80",
      "metadata": {
        "id": "1be1e9c6-37cf-4a5f-bfeb-04cab799dc80"
      },
      "source": [
        "4. Проверьте, насколько популярен Python в требованиях работодателей к DS.Для этого вычислите количество вакансий, в которых в качестве ключевого навыка указан Python.\n",
        "\n",
        "** Это можно сделать помощью запроса, аналогичного предыдущему.*"
      ]
    },
    {
      "cell_type": "code",
      "execution_count": 122,
      "id": "0036a355-9ccf-4564-8b01-73d8194297e7",
      "metadata": {
        "id": "0036a355-9ccf-4564-8b01-73d8194297e7"
      },
      "outputs": [],
      "source": [
        "# текст запроса\n",
        "query_6_4 = f'''\n",
        "select \n",
        "    count(*) cnt\n",
        "from \n",
        "    public.vacancies\n",
        "where \n",
        "    (lower(name) similar to '%({param_string})%'\n",
        "    or name like '%ML%')\n",
        "    and position('html' in lower(name)) = 0\n",
        "    and position('python' in lower(key_skills)) > 0\n",
        "'''"
      ]
    },
    {
      "cell_type": "code",
      "execution_count": 123,
      "id": "1i-5WyucvQ6v",
      "metadata": {
        "id": "1i-5WyucvQ6v"
      },
      "outputs": [
        {
          "data": {
            "text/plain": [
              "'Количество DS вакансий с навыком Python: 351'"
            ]
          },
          "metadata": {},
          "output_type": "display_data"
        }
      ],
      "source": [
        "# результат запроса\n",
        "count_python_vacations = queryExec(query_6_4)\n",
        "display(f\"Количество DS вакансий с навыком Python: {count_python_vacations['cnt'].iloc[0]}\")"
      ]
    },
    {
      "cell_type": "markdown",
      "id": "ec3c8db7-fa21-4a41-a994-1af63742a642",
      "metadata": {
        "id": "ec3c8db7-fa21-4a41-a994-1af63742a642"
      },
      "source": [
        "5. Сколько ключевых навыков в среднем указывают в вакансиях для DS?\n",
        "Ответ округлите до двух знаков после точки-разделителя."
      ]
    },
    {
      "cell_type": "code",
      "execution_count": 124,
      "id": "949132bc-d5b6-4611-8218-0b9a504d74f4",
      "metadata": {
        "id": "949132bc-d5b6-4611-8218-0b9a504d74f4"
      },
      "outputs": [],
      "source": [
        "# текст запроса\n",
        "query_6_5 = f'''\n",
        "select \n",
        "    avg(length(key_skills)-length(replace(key_skills, CHR(9), '')) + 1) avg_skills\n",
        "from \n",
        "    public.vacancies\n",
        "where \n",
        "    (lower(name) similar to '%(data scientist|data science|исследователь данных|machine learning|машинн%обучен%)%'\n",
        "    or name like '%ML%')\n",
        "    and position('html' in lower(name)) = 0\n",
        "    and key_skills is not null\n",
        "'''"
      ]
    },
    {
      "cell_type": "code",
      "execution_count": 125,
      "id": "a3V24Tvmviqk",
      "metadata": {
        "id": "a3V24Tvmviqk"
      },
      "outputs": [
        {
          "data": {
            "text/plain": [
              "'Срееднее значение ключевых навыков в вакансиях DS-специалистов:    6.41'"
            ]
          },
          "metadata": {},
          "output_type": "display_data"
        }
      ],
      "source": [
        "# результат запроса\n",
        "count_skills = queryExec(query_6_5)\n",
        "display(f\"Срееднее значение ключевых навыков в вакансиях DS-специалистов:\\\n",
        "    {round(count_skills['avg_skills'].iloc[0], 2)}\")"
      ]
    },
    {
      "cell_type": "markdown",
      "id": "1041c17a-ca8f-4543-a0ca-32778914fb00",
      "metadata": {
        "id": "1041c17a-ca8f-4543-a0ca-32778914fb00"
      },
      "source": [
        "6. Напишите запрос, позволяющий вычислить, какую зарплату для DS в **среднем** указывают для каждого типа требуемого опыта (уникальное значение из поля *experience*). \n",
        "\n",
        "При решении задачи примите во внимание следующее:\n",
        "1. Рассматриваем только вакансии, у которых заполнено хотя бы одно из двух полей с зарплатой.\n",
        "2. Если заполнены оба поля с зарплатой, то считаем зарплату по каждой вакансии как сумму двух полей, делённую на 2. Если заполнено только одно из полей, то его и считаем зарплатой по вакансии.\n",
        "3. Если в расчётах участвует null, в результате он тоже даст null (посмотрите, что возвращает запрос select 1 + null). Чтобы избежать этой ситуацию, мы воспользуемся функцией [coalesce](https://postgrespro.ru/docs/postgresql/9.5/functions-conditional#functions-coalesce-nvl-ifnull), которая заменит null на значение, которое мы передадим. Например, посмотрите, что возвращает запрос `select 1 + coalesce(null, 0)`\n",
        "\n",
        "Выясните, на какую зарплату в среднем может рассчитывать дата-сайентист с опытом работы от 3 до 6 лет. Результат округлите до целого числа. "
      ]
    },
    {
      "cell_type": "code",
      "execution_count": 126,
      "id": "6a743d39-5204-48d3-8271-b9f88e68d40e",
      "metadata": {
        "id": "6a743d39-5204-48d3-8271-b9f88e68d40e"
      },
      "outputs": [],
      "source": [
        "# текст запроса\n",
        "query_6_6 = f'''\n",
        "select \n",
        "    experience, \n",
        "    avg(case\n",
        "        when (salary_from is not null) and (salary_to is not null) then (salary_from + salary_to)/2\n",
        "        when (salary_from is null) and (salary_to is not null) then salary_to\n",
        "        when (salary_from is not null) and (salary_to is null) then salary_from\n",
        "    end) salary\n",
        "from \n",
        "    public.vacancies\n",
        "where \n",
        "    (lower(name) similar to '%(data scientist|data science|исследователь данных|machine learning|машинн%обучен%)%'\n",
        "    or name like '%ML%')\n",
        "    and position('html' in lower(name)) = 0\n",
        "    and (salary_from is not null or salary_to is not null)\n",
        "group by \n",
        "    experience\n",
        "'''"
      ]
    },
    {
      "cell_type": "code",
      "execution_count": 127,
      "id": "aRIJ0mZEwU1_",
      "metadata": {
        "id": "aRIJ0mZEwU1_"
      },
      "outputs": [
        {
          "data": {
            "text/plain": [
              "'Средняя зарплата для DS-специалиста с опытом работы от 3 до 6 лет:    243115 руб.'"
            ]
          },
          "metadata": {},
          "output_type": "display_data"
        }
      ],
      "source": [
        "# результат запроса\n",
        "avg_DS_salary = queryExec(query_6_6)\n",
        "display(f\"Средняя зарплата для DS-специалиста с опытом работы от 3 до 6 лет:\\\n",
        "    {round(avg_DS_salary[avg_DS_salary['experience']=='От 3 до 6 лет']['salary'].iloc[0])} руб.\")"
      ]
    },
    {
      "cell_type": "markdown",
      "id": "6a7892b4-4113-4746-adce-18aa2844f18e",
      "metadata": {
        "id": "6a7892b4-4113-4746-adce-18aa2844f18e"
      },
      "source": [
        "***"
      ]
    },
    {
      "attachments": {},
      "cell_type": "markdown",
      "id": "3367c8bf",
      "metadata": {},
      "source": [
        "### <span style=\"color:magenta\"> Выводы по предметному анализу: </span>\n",
        "\n",
        "* Количество выявленных вакансий, имеющих отношение к данными: 1 771, что составляет 3,6 % от всех вакансий в данной проектной базе  из них 431 вакансий DS и только 15 явных вакансия для начинающего DS специалиста.  Т.о. почти 12% вакансий для датасайентистов, для новичков в данной сфере. Можно объяснить такой факт тем, что данное направление относительно недавно претерпело классификацию по специальностям работы с данными, хотя вообщем то данный процесс еще и не завершен, скорее всего. Изменения и появление новые технологий опережают такой инертный процесс как подготовка новых кадров с фиксированными навыками.\n",
        " \n",
        "    Т.е. вывод такой, что традиционная методика по подготовке специалиста не успевает за новыми требования для работы с самыми современными технологиями, без использования которых грозит предприям проиграть конкуренцию и начать регрессию с последующей \"гибелью\". Поэтому зачастую датасайнтисты \"рождаются и развиваются\" уже в \"боевых условиях\".\n",
        "\n",
        " * 201 вакансия из 431 вакансий по DS, включают требование навыков работы на SQL или знание postgre, почти 47%, означает, что будущим DS-специалистам стоит освоить SQL для того, чтобы увеличить шанс получения работы по данной специальности. Умение получать необходимые данные и навыки эффективного взаимодействия с БД очень ценный навык, т.к. скорее всего, не все организации могу себе позволить инженера данных. \n",
        "\n",
        " * Требование знание Python для DS упоминается почти в вакансиях 82%. Вывод очевиден в пользу серьезного осваивания Python.  \n",
        "\n",
        "* Уровне З\\П существенным образом отличаются от  опыта работы: 75 тыс. рублей для новичков, почти 140 тыс. рублей для специалистов со стажем до 3 лет и 243 тыс. рублей для специалистов с опытом работы более чем 3 года. Глядя на предлагаемые зарплаты для новичков, наверно трудно себя мотировать на изучение данной дисциплины, не беря в расчет того, что данное направление изучать очень-очень интересно. Но в течение 3 лет есть возможность найти проект уже с учетом пройденного пути.\n",
        "\n",
        "* **Для дополнительного исследования выбран анализ требуемых навыков для специалистов DS. Какие навыки на момент актуальности проектной базы в спросе:**"
      ]
    },
    {
      "cell_type": "code",
      "execution_count": 174,
      "id": "8fd618f3",
      "metadata": {},
      "outputs": [
        {
          "data": {
            "text/html": [
              "<div>\n",
              "<style scoped>\n",
              "    .dataframe tbody tr th:only-of-type {\n",
              "        vertical-align: middle;\n",
              "    }\n",
              "\n",
              "    .dataframe tbody tr th {\n",
              "        vertical-align: top;\n",
              "    }\n",
              "\n",
              "    .dataframe thead th {\n",
              "        text-align: right;\n",
              "    }\n",
              "</style>\n",
              "<table border=\"1\" class=\"dataframe\">\n",
              "  <thead>\n",
              "    <tr style=\"text-align: right;\">\n",
              "      <th></th>\n",
              "      <th>skill</th>\n",
              "      <th>count</th>\n",
              "    </tr>\n",
              "  </thead>\n",
              "  <tbody>\n",
              "    <tr>\n",
              "      <th>164</th>\n",
              "      <td>Python</td>\n",
              "      <td>348</td>\n",
              "    </tr>\n",
              "    <tr>\n",
              "      <th>47</th>\n",
              "      <td>Sql</td>\n",
              "      <td>191</td>\n",
              "    </tr>\n",
              "    <tr>\n",
              "      <th>240</th>\n",
              "      <td>Machine Learning</td>\n",
              "      <td>140</td>\n",
              "    </tr>\n",
              "    <tr>\n",
              "      <th>337</th>\n",
              "      <td>Git</td>\n",
              "      <td>66</td>\n",
              "    </tr>\n",
              "    <tr>\n",
              "      <th>382</th>\n",
              "      <td>Data Science</td>\n",
              "      <td>64</td>\n",
              "    </tr>\n",
              "    <tr>\n",
              "      <th>105</th>\n",
              "      <td>Математическая Статистика</td>\n",
              "      <td>62</td>\n",
              "    </tr>\n",
              "    <tr>\n",
              "      <th>277</th>\n",
              "      <td>Pytorch</td>\n",
              "      <td>61</td>\n",
              "    </tr>\n",
              "    <tr>\n",
              "      <th>387</th>\n",
              "      <td>Pandas</td>\n",
              "      <td>55</td>\n",
              "    </tr>\n",
              "    <tr>\n",
              "      <th>363</th>\n",
              "      <td>Data Analysis</td>\n",
              "      <td>54</td>\n",
              "    </tr>\n",
              "    <tr>\n",
              "      <th>103</th>\n",
              "      <td>Ml</td>\n",
              "      <td>49</td>\n",
              "    </tr>\n",
              "    <tr>\n",
              "      <th>385</th>\n",
              "      <td>Английский Язык</td>\n",
              "      <td>48</td>\n",
              "    </tr>\n",
              "    <tr>\n",
              "      <th>187</th>\n",
              "      <td>Linux</td>\n",
              "      <td>47</td>\n",
              "    </tr>\n",
              "    <tr>\n",
              "      <th>275</th>\n",
              "      <td>Анализ Данных</td>\n",
              "      <td>46</td>\n",
              "    </tr>\n",
              "    <tr>\n",
              "      <th>135</th>\n",
              "      <td>Nlp</td>\n",
              "      <td>42</td>\n",
              "    </tr>\n",
              "    <tr>\n",
              "      <th>61</th>\n",
              "      <td>Tensorflow</td>\n",
              "      <td>42</td>\n",
              "    </tr>\n",
              "  </tbody>\n",
              "</table>\n",
              "</div>"
            ],
            "text/plain": [
              "                         skill  count\n",
              "164                     Python    348\n",
              "47                         Sql    191\n",
              "240           Machine Learning    140\n",
              "337                        Git     66\n",
              "382               Data Science     64\n",
              "105  Математическая Статистика     62\n",
              "277                    Pytorch     61\n",
              "387                     Pandas     55\n",
              "363              Data Analysis     54\n",
              "103                         Ml     49\n",
              "385            Английский Язык     48\n",
              "187                      Linux     47\n",
              "275              Анализ Данных     46\n",
              "135                        Nlp     42\n",
              "61                  Tensorflow     42"
            ]
          },
          "metadata": {},
          "output_type": "display_data"
        },
        {
          "data": {
            "text/plain": [
              "Text(0.5, 1.0, 'Количество требуемых навыков. TOP-15')"
            ]
          },
          "execution_count": 174,
          "metadata": {},
          "output_type": "execute_result"
        },
        {
          "data": {
            "image/png": "[encoded data removed]",
            "text/plain": [
              "<Figure size 640x480 with 1 Axes>"
            ]
          },
          "metadata": {},
          "output_type": "display_data"
        }
      ],
      "source": [
        "# Запрос на доп. исследование требуемых навыков для DS специалистов\n",
        "query_bonus_4 = f''' \n",
        "select \n",
        "    key_skills\n",
        "from \n",
        "    public.vacancies\n",
        "where \n",
        "    (lower(name) similar to '%(data scientist|data science|исследователь данных|machine learning|машинн%обучен%)%'\n",
        "    or name like '%ML%')\n",
        "    and position('html' in lower(name)) = 0\n",
        "    and key_skills is not null\n",
        "'''\n",
        "# Получаем рабочий DF для исследования навыков\n",
        "df = queryExec(query_bonus_4)\n",
        "\n",
        "# Проведем подготовку данных\n",
        "skill_list = []\n",
        "for skill in df['key_skills']:\n",
        "    # Каждый навык приводим к строчным и сплитуем по разделителю\n",
        "    temp_list = skill.lower().split('\\t')\n",
        "    skill_list.extend(temp_list)\n",
        "    \n",
        "# Убираем явные дубликаты через множество    \n",
        "skills = list(set(skill_list))\n",
        "\n",
        "# Создаем словарь вхождений навыка:\n",
        "skill_rating = {}\n",
        "# ключ - текущий навык, значение - количество вхождений \n",
        "# # в первоначальный список всех навыков для DS\n",
        "for skill in skills:\n",
        "    for val in skill_list:\n",
        "        if skill == val:\n",
        "            if skill in skill_rating:\n",
        "                skill_rating[skill] += 1\n",
        "            else:\n",
        "                skill_rating[skill] = 1\n",
        "                \n",
        "# Создаем датафрейм из полученного словаря    \n",
        "target_df = pd.DataFrame(list(skill_rating.items()), columns = ['skill', 'count'])\n",
        "# Приведем название навыков к более \"благородному\" виду\n",
        "target_df['skill'] = target_df['skill'].apply(lambda x: x.title())\n",
        "# Осортируем по убыванию вхождений и возьмем только первые 15 позиций\n",
        "target_df = target_df.sort_values(by='count',ascending=False).head(15)\n",
        "\n",
        "display(target_df)\n",
        "\n",
        "# Построим для наглядности столбчатую диаграмму \n",
        "fig_bonus_4 = sns.barplot(y='count', x='skill', data=target_df, palette=sns.color_palette(\"deep\"))\n",
        "plt.xticks(fontsize=10)\n",
        "plt.yticks(fontsize=10)\n",
        "plt.xticks(rotation=80)\n",
        "fig_bonus_4.set_ylabel(\"Количество вхождений навыка\", fontsize=12)\n",
        "fig_bonus_4.set_xlabel(\"Навык\", fontsize=12)\n",
        "fig_bonus_4.set_title('Количество требуемых навыков. TOP-15', fontsize=14)"
      ]
    },
    {
      "attachments": {},
      "cell_type": "markdown",
      "id": "c8fdb2f7",
      "metadata": {},
      "source": [
        "### Вывод по доп. исследованию\n",
        "\n",
        "**В топ-3 входят ожидаемые навыки: Python, SQL и Машинное обучение.**\n",
        "\n",
        "**Навыки работы с системой контроля версий git запрашиваются чаще чем статистика и самые популярные библиотеки аналитиков.**\n",
        "\n",
        "**В топ-10 входит знание английского языка. Данный навык трудно переоценить для датасайнтиста. Для прогрессивного эволюционирования к изучению обязателен.**"
      ]
    },
    {
      "attachments": {},
      "cell_type": "markdown",
      "id": "c0ED6fh7wiBT",
      "metadata": {
        "id": "c0ED6fh7wiBT"
      },
      "source": [
        "---\n",
        "\n",
        "# <span style=\"color:red\"> **Общий вывод по проекту** </span>\n",
        "\n",
        "В проектной базе данных содержится чуть меньше 50 тыс. вакансий, приблизительно 80% из них относятся так или иначе к it направлению. \n",
        "Половина вакансий содержит сведения о предлагаемых зарплатах на рынке труда, в среднем нижняя граница вилки приблизительно чуть больше 70 тыс. рублей, а верхняя граница выше 100 тыс. рублей. Самые высокие заработные платы предлагаются из зарубежа: Германия, Испания, Черногория, Кипр, Турция, Армения, Прибалтийские страны, Грузия, Польша, Чехия. Правда количество \"забугорных\" вакансий незначительно, больше всего таких вакансий из Арменнии (больше 100) и из Грузии (80 вакансий). \n",
        "\n",
        "В пределах Российской федерации и стран очень ближнего зарубежья самые высокие З\\П предлагаются в ЯНАО, Магаданской обл., Чукотском АО, в Москве, Санкт-Петербурге, Минске. По количеству вакансий больше всего предложений из Москвы, СПб и Минска. Если остановиться на географии, то 60% вакансий расчитаны на соискателей из городов-миллиоников. \n",
        "Данные из таблицы vacations позволяют сделать вывод, что в 72 вакансиях из 100 предлагается график работы полный день с полной занятостью и в 16 вакансиях, в этом же соотношении, предложена удаленная работа с полной занятностью. А самый запрашиваемы опыт работы от 1 года до 3 лет.\n",
        "\n",
        "В базе присутсвуют работодатели, которые присутствуют в 5-ти сферах деятельности. А такие компании как Яндекс, Ростелеком, ведующие банки присутстуют почти во всех регионах Р.Ф. В дополнительном исследовании есть \"картинка\" предлагамой работы, с учетом графика работы и занятости. Например, Тинькофф разместил больше всех банков предложения по работе на удаленке. \n",
        "\n",
        "\n",
        "Весьма узкая полоска в 3,6% вакансий предназначена для тех, кто работает с данными. И всего около 430 вакансий из 49 тыс. нацелены на датасайентистов, где половина вакансий требует навыка работы на SQL (или в Postgre). И самый искомый навык для датасайнтиста это навык работы на Python (82% вакансий для DS). При работе в DS больше года, можно рассчитывать на З/П в в среднем 140 тыс. рублей, а при опыте более 3 лет на 240 тыс. рублей (в среднем).\n",
        "\n",
        "\n",
        "**Основной вывод: для успешной работы в DS, жизненно необходим Python. А для успешного и быстрого поиска своего будущего работодателя необходимо знание SQL и Git. И особенно важно как можно быстрее начать наращивать опыт работы, учавствуя в рабочих проектах.  240 тыс. рублей и интересная работа вполне адекватный стимул для этого.**"
      ]
    }
  ],
  "metadata": {
    "colab": {
      "collapsed_sections": [
        "8d62a9f3-f64e-4fe7-bdac-c4dffa16155e"
      ],
      "provenance": []
    },
    "kernelspec": {
      "display_name": "Python 3",
      "language": "python",
      "name": "python3"
    },
    "language_info": {
      "codemirror_mode": {
        "name": "ipython",
        "version": 3
      },
      "file_extension": ".py",
      "mimetype": "text/x-python",
      "name": "python",
      "nbconvert_exporter": "python",
      "pygments_lexer": "ipython3",
      "version": "3.11.0"
    },
    "vscode": {
      "interpreter": {
        "hash": "72b2382ece9768098284d92bbc69d35954e75b60d1e25897d1389c232f4796f0"
      }
    }
  },
  "nbformat": 4,
  "nbformat_minor": 5
}
